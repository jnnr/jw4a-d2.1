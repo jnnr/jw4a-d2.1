{
 "cells": [
  {
   "cell_type": "code",
   "execution_count": 1,
   "metadata": {},
   "outputs": [
    {
     "ename": "TypeError",
     "evalue": "unzip() missing 2 required positional arguments: 'zip_filepath' and 'destination'",
     "output_type": "error",
     "traceback": [
      "\u001b[0;31m---------------------------------------------------------------------------\u001b[0m",
      "\u001b[0;31mTypeError\u001b[0m                                 Traceback (most recent call last)",
      "\u001b[1;32m/home/jlauner/repos/jw4a-d2.1/notebooks/plot_results_v2.ipynb Cell 1\u001b[0m line \u001b[0;36m2\n\u001b[1;32m      <a href='vscode-notebook-cell://ssh-remote%2Bcompute1/home/jlauner/repos/jw4a-d2.1/notebooks/plot_results_v2.ipynb#W0sdnNjb2RlLXJlbW90ZQ%3D%3D?line=0'>1</a>\u001b[0m \u001b[39mimport\u001b[39;00m \u001b[39mlib\u001b[39;00m\u001b[39m.\u001b[39;00m\u001b[39mdownload\u001b[39;00m \u001b[39mas\u001b[39;00m \u001b[39mld\u001b[39;00m\n\u001b[0;32m----> <a href='vscode-notebook-cell://ssh-remote%2Bcompute1/home/jlauner/repos/jw4a-d2.1/notebooks/plot_results_v2.ipynb#W0sdnNjb2RlLXJlbW90ZQ%3D%3D?line=1'>2</a>\u001b[0m ld\u001b[39m.\u001b[39munzip()\n\u001b[1;32m      <a href='vscode-notebook-cell://ssh-remote%2Bcompute1/home/jlauner/repos/jw4a-d2.1/notebooks/plot_results_v2.ipynb#W0sdnNjb2RlLXJlbW90ZQ%3D%3D?line=2'>3</a>\u001b[0m \u001b[39mdef\u001b[39;00m \u001b[39maggregate_locs\u001b[39m(df):\n\u001b[1;32m      <a href='vscode-notebook-cell://ssh-remote%2Bcompute1/home/jlauner/repos/jw4a-d2.1/notebooks/plot_results_v2.ipynb#W0sdnNjb2RlLXJlbW90ZQ%3D%3D?line=3'>4</a>\u001b[0m     _df \u001b[39m=\u001b[39m df\u001b[39m.\u001b[39mcopy()\n",
      "\u001b[0;31mTypeError\u001b[0m: unzip() missing 2 required positional arguments: 'zip_filepath' and 'destination'"
     ]
    }
   ],
   "source": [
    "def aggregate_locs(df):\n",
    "    _df = df.copy()\n",
    "    _df[\"locs\"] = _df[\"locs\"].replace({\"_\\\\d+$\": \"\"}, regex=True)\n",
    "    _df = _df.groupby([\"locs\", \"techs\"]).sum().reset_index().set_index(\"locs\")\n",
    "    return _df\n",
    "\n",
    "\n",
    "def filter_techs(df, filter_techs):\n",
    "    if not isinstance(filter_techs, list):\n",
    "        filter_techs = [filter_techs]\n",
    "    return df.loc[df.techs.apply(lambda x: any([f in x for f in filter_techs]), 1),:]\n",
    "\n",
    "\n",
    "def drop_nan_inf(series):\n",
    "    return series.loc[~series.isna() & (~series.isin([np.inf, -np.inf]))]\n",
    "\n",
    "\n",
    "def plot_results(data, var_name, var_unit, sort=True):\n",
    "\n",
    "    if sort:\n",
    "        order = data.set_index([\"locs\", \"techs\"]).loc[:, var_name].groupby(\"locs\").sum().sort_values(ascending=True).index\n",
    "        data = data.assign(order=pd.Categorical(data[\"locs\"], categories=order, ordered=True))\n",
    "\n",
    "    plot = (\n",
    "        pn.ggplot(data)\n",
    "        + pn.geom_col(pn.aes(x=\"order\", y=var_name, fill=\"techs\"))\n",
    "        + pn.labs(x=\"Region\", y=f\"{var_name} ({var_unit})\")\n",
    "        + pn.scale_color_discrete(guide=False)\n",
    "        + pn.theme(axis_text_x=pn.element_text(angle=90), legend_position=\"bottom\")\n",
    "        + pn.scale_fill_manual(breaks=list(colors.keys()), values=list(colors.values()))\n",
    "    )\n",
    "\n",
    "    return plot"
   ]
  },
  {
   "cell_type": "code",
   "execution_count": null,
   "metadata": {},
   "outputs": [],
   "source": [
    "    FACTOR_10000_MW_to_GW = 100\n",
    "    RENEWABLES = [\"open_field_pv\", \"roof_mounted_pv\", \"wind\", \"awe\"]\n",
    "\n",
    "    df = pd.read_csv(snakemake.input.energy_cap)\n",
    "\n",
    "    with open(snakemake.input.tech_names) as f:\n",
    "        tech_names = json.load(f)\n",
    "\n",
    "    df.loc[:, [\"energy_cap\", \"energy_cap_max\"]] = df.loc[:, [\"energy_cap\", \"energy_cap_max\"]] * FACTOR_10000_MW_to_GW\n",
    "\n",
    "    df[\"share\"] = df.energy_cap / df.energy_cap_max\n",
    "    df.loc[df[\"energy_cap_max\"] == np.inf, \"share\"] = np.nan\n",
    "\n",
    "    df = aggregate_locs(df).reset_index()\n",
    "\n",
    "    df_re = filter_techs(df, RENEWABLES)\n",
    "\n",
    "    df_re.loc[:, \"techs\"] = df_re.loc[:, \"techs\"].replace(tech_names) # Nice names\n",
    "\n",
    "    plot_results(df_re, \"energy_cap\", \"GW\")"
   ]
  }
 ],
 "metadata": {
  "kernelspec": {
   "display_name": "jw4a-d2.1",
   "language": "python",
   "name": "python3"
  },
  "language_info": {
   "codemirror_mode": {
    "name": "ipython",
    "version": 3
   },
   "file_extension": ".py",
   "mimetype": "text/x-python",
   "name": "python",
   "nbconvert_exporter": "python",
   "pygments_lexer": "ipython3",
   "version": "3.11.4"
  }
 },
 "nbformat": 4,
 "nbformat_minor": 2
}
