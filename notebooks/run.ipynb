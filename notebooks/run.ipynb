{
 "cells": [
  {
   "cell_type": "code",
   "execution_count": 5,
   "metadata": {},
   "outputs": [
    {
     "name": "stdout",
     "output_type": "stream",
     "text": [
      "Copying national_scale template to target directory: ../data/national_example\n"
     ]
    },
    {
     "data": {
      "text/plain": [
       "CompletedProcess(args=['calliope', 'new', '../data/national_example'], returncode=0)"
      ]
     },
     "execution_count": 5,
     "metadata": {},
     "output_type": "execute_result"
    }
   ],
   "source": [
    "import calliope\n",
    "import subprocess\n",
    "\n",
    "subprocess.run([\"calliope\", \"new\", \"../data/national_example\"])"
   ]
  },
  {
   "cell_type": "code",
   "execution_count": 8,
   "metadata": {},
   "outputs": [
    {
     "data": {
      "text/plain": [
       "<calliope.core.model.Model at 0x7f361cf98580>"
      ]
     },
     "execution_count": 8,
     "metadata": {},
     "output_type": "execute_result"
    }
   ],
   "source": [
    "calliope.Model(\"../build/national_example_extended/model.yaml\")"
   ]
  }
 ],
 "metadata": {
  "kernelspec": {
   "display_name": "sector-coupled-euro-calliope-analysis",
   "language": "python",
   "name": "python3"
  },
  "language_info": {
   "codemirror_mode": {
    "name": "ipython",
    "version": 3
   },
   "file_extension": ".py",
   "mimetype": "text/x-python",
   "name": "python",
   "nbconvert_exporter": "python",
   "pygments_lexer": "ipython3",
   "version": "3.8.16"
  },
  "orig_nbformat": 4
 },
 "nbformat": 4,
 "nbformat_minor": 2
}
